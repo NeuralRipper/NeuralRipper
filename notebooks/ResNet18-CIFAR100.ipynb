{
 "cells": [
  {
   "cell_type": "markdown",
   "id": "notebook-header",
   "metadata": {},
   "source": [
    "# ResNet18 CIFAR-100 Training\n",
    "\n",
    "**Refactored notebook using training_lib**\n",
    "\n",
    "Original functionality preserved with ~85% less code duplication."
   ]
  },
  {
   "cell_type": "code",
   "execution_count": null,
   "id": "imports",
   "metadata": {},
   "outputs": [],
   "source": [
    "# Import the training library\n",
    "import sys\n",
    "sys.path.append('./training_lib')\n",
    "\n",
    "from training_lib import (\n",
    "    create_model, get_data_loader, UniversalTrainer,\n",
    "    get_experiment_logger, visualize_samples, print_model_summary\n",
    ")\n",
    "\n",
    "# Show library info\n",
    "from training_lib import info\n",
    "info()"
   ]
  },
  {
   "cell_type": "markdown",
   "id": "experiment-config",
   "metadata": {},
   "source": [
    "## Experiment Configuration"
   ]
  },
  {
   "cell_type": "code",
   "execution_count": null,
   "id": "config",
   "metadata": {},
   "outputs": [],
   "source": [
    "# Experiment configuration - easily adjustable\n",
    "CONFIG = {\n",
    "    'model_name': 'resnet18',\n",
    "    'dataset': 'cifar100', \n",
    "    'epochs': 200,\n",
    "    'batch_size': 256,\n",
    "    'learning_rate': 10e-3,\n",
    "    'use_mlflow': True,\n",
    "    'subset_size': None,  # Use full dataset\n",
    "    'visualize': True\n",
    "}\n",
    "\n",
    "print(\"Experiment Configuration:\")\n",
    "for key, value in CONFIG.items():\n",
    "    print(f\"  {key}: {value}\")"
   ]
  },
  {
   "cell_type": "markdown",
   "id": "model-creation",
   "metadata": {},
   "source": [
    "## Model Creation & Data Loading"
   ]
  },
  {
   "cell_type": "code",
   "execution_count": null,
   "id": "setup",
   "metadata": {},
   "outputs": [],
   "source": [
    "# Initialize experiment logger\n",
    "logger = get_experiment_logger(\"ResNet18\", \"CIFAR-100\")\n",
    "logger.experiment_start()\n",
    "\n",
    "# Create ResNet18 model\n",
    "model = create_model(CONFIG['model_name'], num_classes=100, pretrained=True)\n",
    "print_model_summary(model, CONFIG['model_name'])\n",
    "\n",
    "# Create data loader with automatic input size detection\n",
    "train_loader = get_data_loader(\n",
    "    CONFIG['dataset'],\n",
    "    batch_size=CONFIG['batch_size'],\n",
    "    subset_size=CONFIG['subset_size']\n",
    ")\n",
    "\n",
    "logger.data_loaded(len(train_loader.dataset))\n",
    "print(f\"\\nDataset: {len(train_loader.dataset):,} samples, {len(train_loader)} batches\")"
   ]
  },
  {
   "cell_type": "code",
   "execution_count": null,
   "id": "visualize",
   "metadata": {},
   "outputs": [],
   "source": [
    "# Optional: Visualize dataset samples\n",
    "if CONFIG['visualize']:\n",
    "    logger.info(\"📸 Visualizing dataset samples...\")\n",
    "    visualize_samples(train_loader.dataset, num_samples=16)"
   ]
  },
  {
   "cell_type": "markdown",
   "id": "training-section",
   "metadata": {},
   "source": [
    "## Training"
   ]
  },
  {
   "cell_type": "code",
   "execution_count": null,
   "id": "trainer-setup",
   "metadata": {},
   "outputs": [],
   "source": [
    "# Create universal trainer\n",
    "trainer = UniversalTrainer(\n",
    "    model=model,\n",
    "    model_name=\"ResNet18\",\n",
    "    dataset_name=\"CIFAR-100\",\n",
    "    epochs=CONFIG['epochs'],\n",
    "    batch_size=CONFIG['batch_size'], \n",
    "    learning_rate=CONFIG['learning_rate'],\n",
    "    optimizer_name=\"SGD\",  # Best for ResNet18\n",
    "    use_mlflow=CONFIG['use_mlflow'],\n",
    "    # Additional parameters for comprehensive tracking\n",
    "    input_size=(3, 32, 32),\n",
    "    use_pretrained=True,\n",
    "    train_size=len(train_loader.dataset),\n",
    "    momentum=0.9,\n",
    "    weight_decay=4e-5\n",
    ")\n",
    "\n",
    "logger.info(\"Trainer initialized - ready for training!\")"
   ]
  },
  {
   "cell_type": "code",
   "execution_count": null,
   "id": "training",
   "metadata": {},
   "outputs": [],
   "source": [
    "# Start training with comprehensive monitoring\n",
    "logger.info(\"Starting ResNet18 training on CIFAR-100\")\n",
    "print(\"\\n\" + \"=\"*60)\n",
    "print(\" STARTING RESNET18 TRAINING\")\n",
    "print(\"=\"*60)\n",
    "\n",
    "# Train the model\n",
    "summary = trainer.train(train_loader)\n",
    "\n",
    "print(\"\\n\" + \"=\"*60) \n",
    "print(\" TRAINING COMPLETED!\")\n",
    "print(\"=\"*60)"
   ]
  },
  {
   "cell_type": "markdown",
   "id": "results-section",
   "metadata": {},
   "source": [
    "## Training Results & Analysis"
   ]
  },
  {
   "cell_type": "code",
   "execution_count": null,
   "id": "results",
   "metadata": {},
   "outputs": [],
   "source": [
    "# Display final results\n",
    "if summary:\n",
    "    print(\"\\nFINAL TRAINING SUMMARY:\")\n",
    "    print(\"=\"*40)\n",
    "    print(f\"Status: {summary.get('status', 'Unknown')}\")\n",
    "    print(f\"Total Time: {summary.get('total_time_minutes', 0):.1f} minutes\")\n",
    "    print(f\"Best Accuracy: {summary.get('best_accuracy', 0):.4f}\")\n",
    "    print(f\"Best Loss: {summary.get('best_loss', float('inf')):.4f}\")\n",
    "    print(f\"Epochs: {summary.get('epochs_completed', 0)}/{CONFIG['epochs']}\")\n",
    "    print(\"=\"*40)\n",
    "    \n",
    "    # Calculate performance metrics\n",
    "    if summary.get('total_time_minutes', 0) > 0:\n",
    "        samples_per_min = len(train_loader.dataset) * summary['epochs_completed'] / summary['total_time_minutes']\n",
    "        print(f\"Performance: {samples_per_min:,.0f} samples/minute\")\n",
    "\n",
    "logger.info(\"ResNet18-CIFAR100 experiment completed!\")"
   ]
  }
 ],
 "metadata": {
  "kernelspec": {
   "display_name": "NeuralRipper (GPU)",
   "language": "python",
   "name": "neuralripper"
  },
  "language_info": {
   "codemirror_mode": {
    "name": "ipython",
    "version": 3
   },
   "file_extension": ".py",
   "mimetype": "text/x-python",
   "name": "python",
   "nbconvert_exporter": "python",
   "pygments_lexer": "ipython3",
   "version": "3.12.3"
  }
 },
 "nbformat": 4,
 "nbformat_minor": 5
}
