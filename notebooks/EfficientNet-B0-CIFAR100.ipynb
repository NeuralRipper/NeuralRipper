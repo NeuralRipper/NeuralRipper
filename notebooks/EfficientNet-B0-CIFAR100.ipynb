{
 "cells": [
  {
   "cell_type": "markdown",
   "id": "f5fcca61",
   "metadata": {},
   "source": [
    "# EfficientNet-B0 CIFAR-100 Training\n",
    "\n",
    "**Refactored using training_lib - Clean & efficient**"
   ]
  },
  {
   "cell_type": "code",
   "execution_count": null,
   "id": "a4c897b1",
   "metadata": {},
   "outputs": [],
   "source": [
    "from training_lib import quick_train\n",
    "\n",
    "# Quick training for EfficientNet-B0\n",
    "summary = quick_train(\n",
    "    model_name='EfficientNet_B0',\n",
    "    epochs=25,\n",
    "    batch_size=128,\n",
    "    learning_rate=5e-3,\n",
    "    subset_size=10000  # Quick test\n",
    ")\n",
    "\n",
    "print(f\"Best accuracy: {summary['best_accuracy']:.4f}\")"
   ]
  },
  {
   "cell_type": "code",
   "execution_count": null,
   "id": "dd62a44b",
   "metadata": {},
   "outputs": [],
   "source": []
  }
 ],
 "metadata": {
  "kernelspec": {
   "display_name": "Python 3 (ipykernel)",
   "language": "python",
   "name": "python3"
  },
  "language_info": {
   "codemirror_mode": {
    "name": "ipython",
    "version": 3
   },
   "file_extension": ".py",
   "mimetype": "text/x-python",
   "name": "python",
   "nbconvert_exporter": "python",
   "pygments_lexer": "ipython3",
   "version": "3.12.3"
  }
 },
 "nbformat": 4,
 "nbformat_minor": 5
}
