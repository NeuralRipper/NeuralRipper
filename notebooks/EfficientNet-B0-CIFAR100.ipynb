{
 "cells": [
  {
   "cell_type": "markdown",
   "metadata": {},
   "source": [
    "# EfficientNet-B0 CIFAR-100 Training\n",
    "\n",
    "**Refactored using training_lib - Clean & efficient**"
   ]
  },
  {
   "cell_type": "code",
   "execution_count": null,
   "metadata": {},
   "outputs": [],
   "source": [
    "from training_lib import quick_train\n",
    "\n",
    "# Quick training for EfficientNet-B0\n",
    "summary = quick_train(\n",
    "    model_name='efficientnet_b0',\n",
    "    epochs=30,\n",
    "    batch_size=128,\n",
    "    learning_rate=3e-3,\n",
    "    subset_size=10000  # Quick test\n",
    ")\n",
    "\n",
    "print(f\"Best accuracy: {summary['best_accuracy']:.4f}\")"
   ]
  }
 ],
 "metadata": {
  "kernelspec": {
   "display_name": "ripper",
   "language": "python",
   "name": "python3"
  },
  "language_info": {
   "name": "python",
   "version": "3.11.13"
  }
 },
 "nbformat": 4,
 "nbformat_minor": 5
}
