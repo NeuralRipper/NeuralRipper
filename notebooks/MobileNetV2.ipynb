{
 "cells": [
  {
   "cell_type": "markdown",
   "id": "ba9d6203",
   "metadata": {},
   "source": [
    "# MobileNetV2 CIFAR-100 Training\n",
    "\n",
    "**Refactored using training_lib - Mobile-optimized architecture**"
   ]
  },
  {
   "cell_type": "code",
   "execution_count": null,
   "id": "a95d37a6",
   "metadata": {},
   "outputs": [],
   "source": [
    "from training_lib import quick_train\n",
    "\n",
    "# MobileNetV2 efficient training\n",
    "summary = quick_train(\n",
    "    model_name='mobilenet_v2',\n",
    "    epochs=10,\n",
    "    batch_size=128,\n",
    "    learning_rate=3e-3,\n",
    "    use_mlflow=True\n",
    ")\n",
    "\n",
    "print(f\"MobileNetV2 Best accuracy: {summary['best_accuracy']:.4f}\")\n",
    "print(f\"Training time: {summary['total_time_minutes']:.1f} minutes\")"
   ]
  }
 ],
 "metadata": {
  "kernelspec": {
   "display_name": "ripper",
   "language": "python",
   "name": "python3"
  },
  "language_info": {
   "name": "python",
   "version": "3.11.13"
  }
 },
 "nbformat": 4,
 "nbformat_minor": 5
}
