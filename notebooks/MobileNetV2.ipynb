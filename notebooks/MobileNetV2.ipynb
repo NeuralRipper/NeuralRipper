{
 "cells": [
  {
   "cell_type": "markdown",
   "id": "ba9d6203",
   "metadata": {},
   "source": [
    "# MobileNetV2 CIFAR-100 Training\n",
    "\n",
    "**Refactored using training_lib - Mobile-optimized architecture**"
   ]
  },
  {
   "cell_type": "code",
   "execution_count": null,
   "id": "a95d37a6",
   "metadata": {},
   "outputs": [],
   "source": [
    "from training_lib import quick_train\n",
    "\n",
    "# MobileNetV2 efficient training\n",
    "summary = quick_train(\n",
    "    model_name='MobileNet_V2',\n",
    "    epochs=200,\n",
    "    batch_size=256,\n",
    "    learning_rate=5e-3,\n",
    "    use_mlflow=True\n",
    ")\n",
    "\n",
    "print(f\"MobileNetV2 Best accuracy: {summary['best_accuracy']:.4f}\")\n",
    "print(f\"Training time: {summary['total_time_minutes']:.1f} minutes\")"
   ]
  },
  {
   "cell_type": "code",
   "execution_count": null,
   "id": "b01a1b4f",
   "metadata": {},
   "outputs": [],
   "source": []
  }
 ],
 "metadata": {
  "kernelspec": {
   "display_name": "Python 3 (ipykernel)",
   "language": "python",
   "name": "python3"
  },
  "language_info": {
   "codemirror_mode": {
    "name": "ipython",
    "version": 3
   },
   "file_extension": ".py",
   "mimetype": "text/x-python",
   "name": "python",
   "nbconvert_exporter": "python",
   "pygments_lexer": "ipython3",
   "version": "3.12.3"
  }
 },
 "nbformat": 4,
 "nbformat_minor": 5
}
