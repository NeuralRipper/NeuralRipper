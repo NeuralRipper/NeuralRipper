{
 "cells": [
  {
   "cell_type": "markdown", 
   "metadata": {},
   "source": [
    "# Vision Transformer Base16 CIFAR-100\n",
    "\n",
    "**Refactored using training_lib**"
   ]
  },
  {
   "cell_type": "code",
   "execution_count": null,
   "metadata": {},
   "outputs": [],
   "source": [
    "from training_lib import quick_train\n",
    "\n",
    "# ViT training with 224x224 input size (auto-handled)\n",
    "summary = quick_train(\n",
    "    model_name='vit_base16',\n",
    "    epochs=10,\n",
    "    batch_size=256,\n",
    "    learning_rate=5e-3,\n",
    "    subset_size=10000\n",
    ")\n",
    "\n",
    "print(f\"ViT-Base16 Best accuracy: {summary['best_accuracy']:.4f}\")"
   ]
  }
 ],
 "metadata": {
  "kernelspec": {
   "display_name": "Python 3",
   "language": "python", 
   "name": "python3"
  }
 },
 "nbformat": 4,
 "nbformat_minor": 5
}