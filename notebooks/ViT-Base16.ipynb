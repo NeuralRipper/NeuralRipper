{
 "cells": [
  {
   "cell_type": "markdown",
   "id": "0bc0bc4c",
   "metadata": {},
   "source": [
    "# Vision Transformer Base16 CIFAR-100\n",
    "\n",
    "**Refactored using training_lib**"
   ]
  },
  {
   "cell_type": "code",
   "execution_count": null,
   "id": "02ba8c14",
   "metadata": {},
   "outputs": [],
   "source": [
    "from training_lib import quick_train\n",
    "\n",
    "# ViT training with 224x224 input size (auto-handled)\n",
    "summary = quick_train(\n",
    "    model_name='vit_base16',\n",
    "    epochs=10,\n",
    "    batch_size=4,\n",
    "    learning_rate=5e-3,\n",
    "    subset_size=10000\n",
    ")\n",
    "\n",
    "print(f\"ViT-Base16 Best accuracy: {summary['best_accuracy']:.4f}\")"
   ]
  },
  {
   "cell_type": "code",
   "execution_count": null,
   "id": "b353765b-8781-490b-96ee-1e6fcbedb120",
   "metadata": {},
   "outputs": [],
   "source": []
  }
 ],
 "metadata": {
  "kernelspec": {
   "display_name": "Python 3 (ipykernel)",
   "language": "python",
   "name": "python3"
  },
  "language_info": {
   "codemirror_mode": {
    "name": "ipython",
    "version": 3
   },
   "file_extension": ".py",
   "mimetype": "text/x-python",
   "name": "python",
   "nbconvert_exporter": "python",
   "pygments_lexer": "ipython3",
   "version": "3.12.3"
  }
 },
 "nbformat": 4,
 "nbformat_minor": 5
}
